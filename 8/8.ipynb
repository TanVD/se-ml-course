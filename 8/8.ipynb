{
  "cells": [
    {
      "cell_type": "code",
      "execution_count": 1,
      "outputs": [],
      "source": "import numpy as np\nimport pandas as pd\nimport sklearn.model_selection as ml\nfrom scipy.stats import norm\nfrom sklearn.feature_extraction.text import CountVectorizer\nfrom sklearn.metrics import roc_curve\nimport matplotlib.pyplot as plt\n",
      "metadata": {
        "pycharm": {
          "metadata": false,
          "name": "#%%\n",
          "is_executing": false
        }
      }
    },
    {
      "cell_type": "code",
      "execution_count": 60,
      "outputs": [],
      "source": "def to_row(arr):\n    return arr.reshape(1, -1)\n\ndef nb(nb_constr, points_training, points_test, labels_training, labels_test):\n    naive_bayes \u003d nb_constr(points_training, labels_training)\n    print(f\u0027Accuracy: {np.mean(naive_bayes.predict(points_test) \u003d\u003d labels_test)}\u0027)\n    plt.plot(*roc_curve(labels_test, [el[0] for el in naive_bayes.prob(points_test)])[0:1])\n    plt.show()\n\n",
      "metadata": {
        "pycharm": {
          "metadata": false,
          "name": "#%%\n",
          "is_executing": false
        }
      }
    },
    {
      "cell_type": "code",
      "execution_count": 2,
      "outputs": [
        {
          "name": "stderr",
          "text": [
            "/usr/local/lib/python3.6/dist-packages/sklearn/model_selection/_split.py:2179: FutureWarning: From version 0.21, test_size will always complement train_size unless both are specified.\n  FutureWarning)\n"
          ],
          "output_type": "stream"
        }
      ],
      "source": "spam_dataset \u003d pd.read_csv(\"../datasets/spam.csv\")\nspam_labels \u003d [val for val in spam_dataset[\u0027label\u0027].values]\nspam_points \u003d spam_dataset.drop([\u0027label\u0027], axis\u003d1).values\n\nspam_points_training, spam_points_test, spam_labels_training, spam_labels_test \u003d ml.train_test_split(spam_points, spam_labels, train_size\u003d0.8)\n",
      "metadata": {
        "pycharm": {
          "metadata": false,
          "name": "#%%\n",
          "is_executing": false
        }
      }
    },
    {
      "cell_type": "code",
      "execution_count": 3,
      "outputs": [],
      "source": "\nclass GNB:\n    def __init__(self, data, labels):\n        self.labels_variants \u003d set(labels)\n        self.mean \u003d np.array([np.mean(data[labels \u003d\u003d label], axis\u003d0) for label in self.labels_variants])\n        self.variance \u003d np.array([np.var(data[labels \u003d\u003d label], axis\u003d0) for label in self.labels_variants])\n        \n    def _label_prob(self, label_index, point):\n        pdf \u003d norm(self.mean[label_index], self.variance[label_index]).pdf(point)\n        return np.sum(np.log(pdf[~np.isnan(pdf)] + 0.0000001))\n        \n    def _prob_point(self, point):\n        probabilities \u003d np.ones(len(self.labels_variants))\n        exp_sum \u003d 0\n        for (index, label) in enumerate(self.labels_variants):\n            label_prob \u003d self._label_prob(index, point)\n            probabilities[index] \u003d label_prob\n            exp_sum +\u003d np.exp(probabilities[index])\n        return np.exp(probabilities) / exp_sum\n        \n    def prob(self, points):\n        return np.array([self._prob_point(point) for point in points])\n        \n    def predict(self, points):\n        return np.argmax(self.prob(points), axis\u003d1)\n",
      "metadata": {
        "pycharm": {
          "metadata": false,
          "name": "#%%\n",
          "is_executing": false
        }
      }
    },
    {
      "cell_type": "code",
      "execution_count": 58,
      "outputs": [
        {
          "name": "stdout",
          "text": [
            "Accuracy: 0.8610206297502715\n"
          ],
          "output_type": "stream"
        },
        {
          "data": {
            "text/plain": "\u003cFigure size 432x288 with 1 Axes\u003e",
            "image/png": "[encoded data removed]"
          },
          "metadata": {
            "needs_background": "light"
          },
          "output_type": "display_data"
        }
      ],
      "source": "nb(GNB, spam_points_training, spam_points_test, spam_labels_training, spam_labels_test)\n",
      "metadata": {
        "pycharm": {
          "metadata": false,
          "name": "#%%\n",
          "is_executing": false
        }
      }
    },
    {
      "cell_type": "code",
      "execution_count": 52,
      "outputs": [],
      "source": "sms_spam_dataset \u003d pd.read_csv(\"../datasets/smsspam.csv\")\nsms_spam_labels \u003d (sms_spam_dataset[\"label\"].values \u003d\u003d \u0027spam\u0027).astype(int)\nsms_spam_points \u003d sms_spam_dataset.drop([\u0027label\u0027], axis\u003d1).values.flatten()\nsms_spam_points \u003d (CountVectorizer().fit_transform(sms_spam_points) !\u003d 0).astype(int)\n\nsms_spam_points_training, sms_spam_points_test, sms_spam_labels_training, sms_spam_labels_test \u003d ml.train_test_split(sms_spam_points, sms_spam_labels, train_size\u003d0.8)\n",
      "metadata": {
        "pycharm": {
          "metadata": false,
          "name": "#%%\n",
          "is_executing": false
        }
      }
    },
    {
      "cell_type": "code",
      "execution_count": 61,
      "outputs": [],
      "source": "class MNB:\n    def __init__(self, data, labels):\n        self.labels_variants \u003d set(labels)\n        self.bern_prob \u003d np.array([np.asarray(np.mean(data[labels \u003d\u003d label], axis\u003d0))[0] for label in self.labels_variants])\n        \n    def _label_prob(self, label_index, point):\n        point_prob \u003d np.multiply(to_row(self.bern_prob[label_index]), point) + np.multiply((1 - to_row(self.bern_prob[label_index])), (1 - point))\n        return np.sum(np.log(point_prob + 0.0000001))\n        \n    def _prob_point(self, point):\n        probabilities \u003d np.ones(len(self.labels_variants))\n        exp_sum \u003d 0\n        for (index, label) in enumerate(self.labels_variants):\n            label_prob \u003d self._label_prob(index, point.toarray())\n            probabilities[index] \u003d label_prob\n            exp_sum +\u003d np.exp(probabilities[index])\n        return np.exp(probabilities) / exp_sum\n        \n    def prob(self, points):\n        return np.array([self._prob_point(point) for point in points])\n        \n    def predict(self, points):\n        return np.argmax(self.prob(points), axis\u003d1)\n    ",
      "metadata": {
        "pycharm": {
          "metadata": false,
          "name": "#%%\n",
          "is_executing": false
        }
      }
    },
    {
      "cell_type": "code",
      "execution_count": 62,
      "outputs": [
        {
          "name": "stdout",
          "text": [
            "Accuracy: 0.9901345291479821\n"
          ],
          "output_type": "stream"
        },
        {
          "data": {
            "text/plain": "\u003cFigure size 432x288 with 1 Axes\u003e",
            "image/png": "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\u003d\n"
          },
          "metadata": {
            "needs_background": "light"
          },
          "output_type": "display_data"
        }
      ],
      "source": "nb(MNB, sms_spam_points_training, sms_spam_points_test, sms_spam_labels_training, sms_spam_labels_test)\n\n",
      "metadata": {
        "pycharm": {
          "metadata": false,
          "name": "#%%\n",
          "is_executing": false
        }
      }
    }
  ],
  "metadata": {
    "language_info": {
      "codemirror_mode": {
        "name": "ipython",
        "version": 2
      },
      "file_extension": ".py",
      "mimetype": "text/x-python",
      "name": "python",
      "nbconvert_exporter": "python",
      "pygments_lexer": "ipython2",
      "version": "2.7.6"
    },
    "kernelspec": {
      "name": "pycharm-c591b7e2",
      "language": "python",
      "display_name": "PyCharm (ML_ITMO_1)"
    },
    "stem_cell": {
      "cell_type": "raw",
      "source": "",
      "metadata": {
        "pycharm": {
          "metadata": false
        }
      }
    }
  },
  "nbformat": 4,
  "nbformat_minor": 0
}