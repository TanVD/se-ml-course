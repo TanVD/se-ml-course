{
  "cells": [
    {
      "cell_type": "code",
      "execution_count": 13,
      "outputs": [],
      "source": "import numpy as np\nimport pandas as pd\nimport sklearn.model_selection as ml\nfrom scipy.stats import norm\nfrom sklearn.metrics import roc_curve\nimport matplotlib.pyplot as plt\n",
      "metadata": {
        "pycharm": {
          "metadata": false,
          "name": "#%%\n",
          "is_executing": false
        }
      }
    },
    {
      "cell_type": "code",
      "execution_count": 14,
      "outputs": [],
      "source": "spam_dataset \u003d pd.read_csv(\"../datasets/spam.csv\")\nspam_labels \u003d [val for val in spam_dataset[\u0027label\u0027].values]\nspam_points \u003d spam_dataset.drop([\u0027label\u0027], axis\u003d1).values\n\nspam_points_training, spam_points_test, spam_labels_training, spam_labels_test \u003d ml.train_test_split(spam_points, spam_labels, train_size\u003d0.8)\n",
      "metadata": {
        "pycharm": {
          "metadata": false,
          "name": "#%%\n",
          "is_executing": false
        }
      }
    },
    {
      "cell_type": "code",
      "execution_count": 32,
      "outputs": [],
      "source": "\nclass GNB:\n    def __init__(self, data, labels):\n        self.labels_variants \u003d set(labels)\n        self.mean \u003d np.array([np.mean(data[labels \u003d\u003d label], axis\u003d0) for label in self.labels_variants])\n        self.variance \u003d np.array([np.var(data[labels \u003d\u003d label], axis\u003d0) for label in self.labels_variants])\n        \n    def _label_prob(self, label_index, point):\n        pdf \u003d norm(self.mean[label_index], self.variance[label_index]).pdf(point)\n        return np.sum(np.log(pdf[~np.isnan(pdf)] + 0.0000001))\n        \n    def _prob_point(self, point):\n        probabilities \u003d np.ones(len(self.labels_variants))\n        exp_sum \u003d 0\n        for (index, label) in enumerate(self.labels_variants):\n            label_prob \u003d self._label_prob(index, point)\n            probabilities[index] \u003d label_prob\n            exp_sum +\u003d np.exp(probabilities[index])\n        return np.exp(probabilities) / exp_sum\n        \n    def prob(self, points):\n        return np.array([self._prob_point(point) for point in points])\n        \n    def predict(self, points):\n        return np.argmax(self.prob(points), axis\u003d1)\n",
      "metadata": {
        "pycharm": {
          "metadata": false,
          "name": "#%%\n",
          "is_executing": false
        }
      }
    },
    {
      "cell_type": "code",
      "execution_count": 49,
      "outputs": [],
      "source": "def gnb(points_training, points_test, labels_training, labels_test):\n    model \u003d GNB(points_training, labels_training)\n    print(f\u0027Accuracy: {np.mean(model.predict(points_test) \u003d\u003d labels_test)}\u0027)\n    plt.plot(*roc_curve(labels_test, [el[0] for el in model.prob(points_test)])[0:1])\n    plt.show()",
      "metadata": {
        "pycharm": {
          "metadata": false,
          "name": "#%%\n",
          "is_executing": false
        }
      }
    },
    {
      "cell_type": "code",
      "execution_count": 50,
      "outputs": [
        {
          "name": "stdout",
          "text": [
            "Accuracy: 0.8675352877307275\n"
          ],
          "output_type": "stream"
        },
        {
          "data": {
            "text/plain": "\u003cFigure size 432x288 with 1 Axes\u003e",
            "image/png": "[encoded data removed]"
          },
          "metadata": {
            "needs_background": "light"
          },
          "output_type": "display_data"
        }
      ],
      "source": "gnb(spam_points_training, spam_points_test, spam_labels_training, spam_labels_test)",
      "metadata": {
        "pycharm": {
          "metadata": false,
          "name": "#%%\n",
          "is_executing": false
        }
      }
    }
  ],
  "metadata": {
    "language_info": {
      "codemirror_mode": {
        "name": "ipython",
        "version": 2
      },
      "file_extension": ".py",
      "mimetype": "text/x-python",
      "name": "python",
      "nbconvert_exporter": "python",
      "pygments_lexer": "ipython2",
      "version": "2.7.6"
    },
    "kernelspec": {
      "name": "python3",
      "language": "python",
      "display_name": "Python 3"
    },
    "stem_cell": {
      "cell_type": "raw",
      "source": "",
      "metadata": {
        "pycharm": {
          "metadata": false
        }
      }
    }
  },
  "nbformat": 4,
  "nbformat_minor": 0
}