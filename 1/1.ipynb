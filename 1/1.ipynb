{
 "cells": [
  {
   "cell_type": "code",
   "execution_count": 46,
   "metadata": {},
   "outputs": [],
   "source": [
    "import abc\n",
    "import collections\n",
    "\n",
    "import numpy as np\n",
    "import pandas as pd\n",
    "from sklearn.model_selection import LeaveOneOut\n",
    "import sklearn\n",
    "\n"
   ]
  },
  {
   "cell_type": "code",
   "execution_count": 28,
   "metadata": {},
   "outputs": [],
   "source": [
    "cancer_dataset = pd.read_csv(\"datasets/cancer.csv\")\n",
    "cancer_labels = cancer_dataset['label'].values\n",
    "cancer_points = cancer_dataset.drop(['label'], axis=1).values\n"
   ]
  },
  {
   "cell_type": "code",
   "execution_count": 29,
   "metadata": {},
   "outputs": [],
   "source": [
    "spam_dataset = pd.read_csv(\"datasets/spam.csv\")\n",
    "spam_labels = spam_dataset['label'].values\n",
    "spam_points = spam_dataset.drop(['label'], axis=1).values\n"
   ]
  },
  {
   "cell_type": "code",
   "execution_count": 30,
   "metadata": {},
   "outputs": [],
   "source": [
    "class NNClassifier:\n",
    "    def __init__(self, data, data_labeled, distance=lambda x, y: np.linalg.norm(x - y)):\n",
    "        self.data_indexed = list(enumerate(data))\n",
    "        self.distance = distance\n",
    "        self.data_labeled = data_labeled\n",
    "\n",
    "    def get_neighbours(self, x):\n",
    "        return sorted(map(lambda tup: (tup[0], self.distance(x, tup[1])), self.data_indexed),\n",
    "                      key=lambda tup: tup[1])\n",
    "\n",
    "    @abc.abstractmethod\n",
    "    def label(self, x, neighbours=None, params=None):\n",
    "        return\n"
   ]
  },
  {
   "cell_type": "code",
   "execution_count": 31,
   "metadata": {},
   "outputs": [],
   "source": [
    "class KNN(NNClassifier):\n",
    "    def label(self, x, neighbours=None, k=5):\n",
    "        if neighbours is None:\n",
    "            neighbours = self.get_neighbours(x)\n",
    "\n",
    "        k_dists = neighbours[:k]\n",
    "\n",
    "        saw_labels = collections.defaultdict(lambda: 0)\n",
    "        for i, x in k_dists:\n",
    "            saw_labels[self.data_labeled[i]] += 1\n",
    "        return sorted(saw_labels.items(), key=lambda tup: tup[1])[-1][0]\n"
   ]
  },
  {
   "cell_type": "code",
   "execution_count": 32,
   "metadata": {},
   "outputs": [],
   "source": [
    "class RNN(NNClassifier):\n",
    "    def label(self, x, neighbours=None, radius=1):\n",
    "        if neighbours is None:\n",
    "            neighbours = self.get_neighbours(x)\n",
    "\n",
    "        k_dists = filter(lambda tup: tup[1] < radius, neighbours)\n",
    "\n",
    "        saw_labels = collections.defaultdict(lambda: 0)\n",
    "        for i, x in k_dists:\n",
    "            saw_labels[self.data_labeled[i]] += 1\n",
    "        if len(saw_labels) == 0:\n",
    "            return self.data_labeled[0]\n",
    "        return sorted(list(saw_labels.items()), key=lambda tup: tup[1])[-1][0]\n"
   ]
  },
  {
   "cell_type": "code",
   "execution_count": 33,
   "metadata": {},
   "outputs": [],
   "source": [
    "def count_loo(points, labels, nnclassifier, range, loo=LeaveOneOut()):\n",
    "    res_dict = collections.defaultdict(lambda: 0)\n",
    "    total = 0\n",
    "    for train_ind, test_ind in loo.split(points):\n",
    "        points_train = points[train_ind]\n",
    "        point_test = points[test_ind]\n",
    "        labels_train = labels[train_ind]\n",
    "        label_test = labels[test_ind]\n",
    "\n",
    "        classifier = nnclassifier(points_train, labels_train)\n",
    "\n",
    "        neighbours = classifier.get_neighbours(point_test)\n",
    "\n",
    "        for val in range:\n",
    "            label = classifier.label(point_test, neighbours, val)\n",
    "            if label == label_test[0]:\n",
    "                res_dict[val] += 1\n",
    "        total += 1\n",
    "\n",
    "    for value, count in sorted(res_dict.items()):\n",
    "        print(f\"{value} : {count / total}\")\n"
   ]
  },
  {
   "cell_type": "markdown",
   "metadata": {},
   "source": [
    "Execute LOO on KNN for Cancer dataset with range [1, 10]"
   ]
  },
  {
   "cell_type": "code",
   "execution_count": 34,
   "metadata": {},
   "outputs": [
    {
     "name": "stdout",
     "output_type": "stream",
     "text": [
      "1 : 0.9156414762741653\n2 : 0.9156414762741653\n3 : 0.9261862917398945\n4 : 0.9279437609841827\n5 : 0.9332161687170475\n6 : 0.9314586994727593\n7 : 0.9314586994727593\n8 : 0.9332161687170475\n9 : 0.9332161687170475\n10 : 0.9349736379613357\nNone\n"
     ]
    }
   ],
   "source": [
    "print(count_loo(cancer_points, cancer_labels, KNN, list(range(1, 11))))\n"
   ]
  },
  {
   "cell_type": "markdown",
   "metadata": {},
   "source": [
    "Execute LOO on KNN for Spam dataset with range [1, 10]"
   ]
  },
  {
   "cell_type": "code",
   "execution_count": 36,
   "metadata": {},
   "outputs": [
    {
     "name": "stdout",
     "output_type": "stream",
     "text": [
      "1 : 0.830471636600739\n2 : 0.7767876548576397\n3 : 0.8148228645946534\n4 : 0.7867854814170833\n5 : 0.8141708324277331\n6 : 0.7830906324712019\n7 : 0.8041730058682895\n8 : 0.783307976526842\n9 : 0.797217996087807\n10 : 0.780482503803521\nNone\n"
     ]
    }
   ],
   "source": [
    "print(count_loo(spam_points, spam_labels, KNN, list(range(1, 11))))\n"
   ]
  },
  {
   "cell_type": "markdown",
   "metadata": {},
   "source": [
    "To decrease time of calculation we will do kind of a binary search -- few queries with smaller and smaller ranges and steps in it to find the best radius. We will start with 1000 as maximum cause previous calculations showed that radius bigger tends to decrease quality"
   ]
  },
  {
   "cell_type": "markdown",
   "metadata": {},
   "source": [
    "Execute LOO on RNN for Cancer dataset with range [1, 1000] and step 50"
   ]
  },
  {
   "cell_type": "code",
   "execution_count": 37,
   "metadata": {},
   "outputs": [
    {
     "name": "stdout",
     "output_type": "stream",
     "text": [
      "1 : 0.37258347978910367\n51 : 0.9437609841827768\n101 : 0.9209138840070299\n151 : 0.9191564147627417\n201 : 0.9121265377855887\n251 : 0.9103690685413005\n301 : 0.8998242530755711\n351 : 0.8910369068541301\n401 : 0.8892794376098418\n451 : 0.8840070298769771\n501 : 0.8769771528998243\n551 : 0.8664323374340949\n601 : 0.8681898066783831\n651 : 0.859402460456942\n701 : 0.8541300527240774\n751 : 0.8523725834797891\n801 : 0.836555360281195\n851 : 0.8242530755711776\n901 : 0.8189806678383128\n951 : 0.8066783831282952\nNone\n"
     ]
    }
   ],
   "source": [
    "print(count_loo(cancer_points, cancer_labels, RNN, list(range(1, 1000, 50))))\n"
   ]
  },
  {
   "cell_type": "heading",
   "metadata": {},
   "level": 3,
   "source": [
    "Execute LOO on RNN for Cancer dataset with range [40, 100] and step 5"
   ]
  },
  {
   "cell_type": "code",
   "execution_count": 38,
   "metadata": {},
   "outputs": [
    {
     "name": "stdout",
     "output_type": "stream",
     "text": [
      "40 : 0.929701230228471\n45 : 0.9349736379613357\n50 : 0.9420035149384886\n55 : 0.9384885764499121\n60 : 0.9349736379613357\n65 : 0.9349736379613357\n70 : 0.9349736379613357\n75 : 0.929701230228471\n80 : 0.9209138840070299\n85 : 0.9244288224956063\n90 : 0.9226713532513181\n95 : 0.9226713532513181\nNone\n"
     ]
    }
   ],
   "source": [
    "print(count_loo(cancer_points, cancer_labels, RNN, list(range(40, 100, 5))))\n"
   ]
  },
  {
   "cell_type": "heading",
   "metadata": {},
   "level": 3,
   "source": [
    "Execute LOO on RNN for Cancer dataset with range [45, 55] and step 1"
   ]
  },
  {
   "cell_type": "code",
   "execution_count": 39,
   "metadata": {},
   "outputs": [
    {
     "name": "stdout",
     "output_type": "stream",
     "text": [
      "45 : 0.9349736379613357\n46 : 0.9367311072056239\n47 : 0.9367311072056239\n48 : 0.9384885764499121\n49 : 0.9402460456942003\n50 : 0.9420035149384886\n51 : 0.9437609841827768\n52 : 0.9437609841827768\n53 : 0.9420035149384886\n54 : 0.9384885764499121\nNone\n"
     ]
    }
   ],
   "source": [
    "print(count_loo(cancer_points, cancer_labels, RNN, list(range(45, 55, 1))))\n"
   ]
  },
  {
   "cell_type": "heading",
   "metadata": {},
   "level": 2,
   "source": [
    "The best is 51, 52 radis"
   ]
  },
  {
   "cell_type": "heading",
   "metadata": {},
   "level": 2,
   "source": [
    "Now we will do exactly same for Spam dataset"
   ]
  },
  {
   "cell_type": "heading",
   "metadata": {},
   "level": 3,
   "source": [
    "Execute LOO on RNN for Spam dataset with range [1, 1000] and step 100"
   ]
  },
  {
   "cell_type": "code",
   "execution_count": 40,
   "metadata": {},
   "outputs": [
    {
     "name": "stdout",
     "output_type": "stream",
     "text": [
      "1 : 0.4744620734622908\n101 : 0.7044120843294935\n201 : 0.6822429906542056\n301 : 0.6759400130406433\n401 : 0.6687676592045207\n501 : 0.6589871767007173\n601 : 0.6572484242555966\n701 : 0.6563790480330363\n801 : 0.6507281025863942\n901 : 0.650076070419474\nNone\n"
     ]
    }
   ],
   "source": [
    "print(count_loo(spam_points, spam_labels, RNN, list(range(1, 1000, 100))))"
   ]
  },
  {
   "cell_type": "heading",
   "metadata": {},
   "level": 3,
   "source": [
    "Execute LOO on RNN for Spam dataset with range [1, 200] and step 20"
   ]
  },
  {
   "cell_type": "code",
   "execution_count": 42,
   "metadata": {},
   "outputs": [
    {
     "name": "stdout",
     "output_type": "stream",
     "text": [
      "1 : 0.4744620734622908\n21 : 0.744620734622908\n41 : 0.7298413388393827\n61 : 0.7241903933927407\n81 : 0.7078895892197349\n101 : 0.7044120843294935\n121 : 0.7007172353836123\n141 : 0.6985437948272115\n161 : 0.6952836339926103\n181 : 0.6876765920452076\nNone\n"
     ]
    }
   ],
   "source": [
    "print(count_loo(spam_points, spam_labels, RNN, list(range(1, 200, 20))))"
   ]
  },
  {
   "cell_type": "heading",
   "metadata": {},
   "level": 3,
   "source": [
    "Execute LOO on RNN for Spam dataset with range [1, 50] and step 5"
   ]
  },
  {
   "cell_type": "code",
   "execution_count": 42,
   "metadata": {},
   "outputs": [
    {
     "name": "stdout",
     "output_type": "stream",
     "text": [
      "1 : 0.4744620734622908\n6 : 0.763747011519235\n11 : 0.7489676157357096\n16 : 0.7450554227341882\n21 : 0.744620734622908\n26 : 0.7328841556183439\n31 : 0.7254944577265812\n36 : 0.7259291458378614\n41 : 0.7298413388393827\n46 : 0.7322321234514236\nNone\n"
     ]
    }
   ],
   "source": [
    "print(count_loo(spam_points, spam_labels, RNN, list(range(1, 50, 5))))"
   ]
  },
  {
   "cell_type": "heading",
   "metadata": {},
   "level": 3,
   "source": [
    "Execute LOO on RNN for Spam dataset with range [1, 10] and step 1"
   ]
  },
  {
   "cell_type": "code",
   "execution_count": 43,
   "metadata": {},
   "outputs": [
    {
     "name": "stdout",
     "output_type": "stream",
     "text": [
      "1 : 0.4744620734622908\n2 : 0.5229297978700282\n3 : 0.6329058900239078\n4 : 0.7135405346663769\n5 : 0.7604868506846337\n6 : 0.763747011519235\n7 : 0.7594001304064334\n8 : 0.7620082590741143\n9 : 0.7535318409041513\nNone\n"
     ]
    }
   ],
   "source": [
    "print(count_loo(spam_points, spam_labels, RNN, list(range(1, 10, 1))))"
   ]
  },
  {
   "cell_type": "heading",
   "metadata": {},
   "level": 2,
   "source": [
    "The best is 6 radis"
   ]
  },
  {
   "cell_type": "heading",
   "metadata": {},
   "level": 2,
   "source": [
    "Now we will normalize datasets"
   ]
  },
  {
   "cell_type": "code",
   "execution_count": 48,
   "metadata": {},
   "outputs": [],
   "source": [
    "scaler = sklearn.preprocessing.MinMaxScaler()"
   ]
  },
  {
   "cell_type": "code",
   "execution_count": 49,
   "metadata": {},
   "outputs": [],
   "source": [
    "\n",
    "norm_cancer_points = scaler.fit_transform(cancer_points)\n"
   ]
  },
  {
   "cell_type": "heading",
   "metadata": {},
   "level": 3,
   "source": [
    "Execute LOO on KNN for Normalized Cancer dataset with range [1, 10]"
   ]
  },
  {
   "cell_type": "code",
   "execution_count": 50,
   "metadata": {},
   "outputs": [
    {
     "name": "stdout",
     "output_type": "stream",
     "text": [
      "1 : 0.9525483304042179\n2 : 0.9578207381370826\n3 : 0.9701230228471002\n4 : 0.9648506151142355\n5 : 0.9666080843585237\n6 : 0.968365553602812\n7 : 0.9701230228471002\n8 : 0.9701230228471002\n9 : 0.9701230228471002\n10 : 0.968365553602812\nNone\n"
     ]
    }
   ],
   "source": [
    "print(count_loo(norm_cancer_points, cancer_labels, KNN, list(range(1, 11))))"
   ]
  },
  {
   "cell_type": "code",
   "execution_count": 52,
   "metadata": {},
   "outputs": [],
   "source": [
    "norm_spam_points = scaler.fit_transform(spam_points)\n"
   ]
  },
  {
   "cell_type": "heading",
   "metadata": {},
   "level": 3,
   "source": [
    "Execute LOO on KNN for Normalized Spam dataset with range [1, 10]"
   ]
  },
  {
   "cell_type": "code",
   "execution_count": 53,
   "metadata": {},
   "outputs": [
    {
     "name": "stdout",
     "output_type": "stream",
     "text": [
      "1 : 0.9121930015214084\n2 : 0.8821995218430776\n3 : 0.9052379917409259\n4 : 0.8850249945663986\n5 : 0.9048033036296458\n6 : 0.8876331232340795\n7 : 0.9006737665724842\n8 : 0.8889371875679201\n9 : 0.8980656379048033\n10 : 0.88871984351228\nNone\n"
     ]
    }
   ],
   "source": [
    "print(count_loo(norm_spam_points, spam_labels, KNN, list(range(1, 11))))"
   ]
  },
  {
   "cell_type": "heading",
   "metadata": {},
   "level": 2,
   "source": [
    "Now the same steps for Normalized Cancer dataset on RNN"
   ]
  },
  {
   "cell_type": "heading",
   "metadata": {},
   "level": 3,
   "source": [
    "Execute LOO on RNN for Normalized Cancer dataset with range [0.0, 1.0] and step 0.05"
   ]
  },
  {
   "cell_type": "code",
   "execution_count": 56,
   "metadata": {},
   "outputs": [
    {
     "name": "stdout",
     "output_type": "stream",
     "text": [
      "0.0 : 0.37258347978910367\n0.05 : 0.37258347978910367\n0.1 : 0.37258347978910367\n0.15000000000000002 : 0.37961335676625657\n0.2 : 0.4973637961335677\n0.25 : 0.6766256590509666\n0.30000000000000004 : 0.7978910369068541\n0.35000000000000003 : 0.8646748681898067\n0.4 : 0.9121265377855887\n0.45 : 0.9209138840070299\n0.5 : 0.929701230228471\n0.55 : 0.9367311072056239\n0.6000000000000001 : 0.929701230228471\n0.65 : 0.9367311072056239\n0.7000000000000001 : 0.9314586994727593\n0.75 : 0.9279437609841827\n0.8 : 0.9191564147627417\n0.8500000000000001 : 0.9121265377855887\n0.9 : 0.9015817223198594\n0.9500000000000001 : 0.8875219683655536\nNone\n"
     ]
    }
   ],
   "source": [
    "print(count_loo(norm_cancer_points, cancer_labels, RNN, np.arange(0.0, 1.0, 0.05)))"
   ]
  },
  {
   "cell_type": "heading",
   "metadata": {},
   "level": 3,
   "source": [
    "Execute LOO on RNN for Normalized Cancer dataset with range [0.5, 0.75] and step 0.01"
   ]
  },
  {
   "cell_type": "code",
   "execution_count": 58,
   "metadata": {},
   "outputs": [
    {
     "name": "stdout",
     "output_type": "stream",
     "text": [
      "0.5 : 0.929701230228471\n0.51 : 0.9279437609841827\n0.52 : 0.9367311072056239\n0.53 : 0.9367311072056239\n0.54 : 0.9367311072056239\n0.55 : 0.9367311072056239\n0.56 : 0.9402460456942003\n0.5700000000000001 : 0.9367311072056239\n0.5800000000000001 : 0.9332161687170475\n0.5900000000000001 : 0.9349736379613357\n0.6000000000000001 : 0.929701230228471\n0.6100000000000001 : 0.929701230228471\n0.6200000000000001 : 0.9332161687170475\n0.6300000000000001 : 0.9349736379613357\n0.6400000000000001 : 0.9332161687170475\n0.6500000000000001 : 0.9367311072056239\n0.6600000000000001 : 0.9367311072056239\n0.6700000000000002 : 0.9367311072056239\n0.6800000000000002 : 0.9367311072056239\n0.6900000000000002 : 0.9367311072056239\n0.7000000000000002 : 0.9314586994727593\n0.7100000000000002 : 0.9314586994727593\n0.7200000000000002 : 0.929701230228471\n0.7300000000000002 : 0.929701230228471\n0.7400000000000002 : 0.9279437609841827\nNone\n"
     ]
    }
   ],
   "source": [
    "print(count_loo(norm_cancer_points, cancer_labels, RNN, np.arange(0.5, 0.75, 0.01)))"
   ]
  },
  {
   "cell_type": "heading",
   "metadata": {},
   "level": 2,
   "source": [
    "The best radius is about 0.65-0.69"
   ]
  },
  {
   "cell_type": "heading",
   "metadata": {},
   "level": 2,
   "source": [
    "And the same steps for Normalized Spam dataset on RNN"
   ]
  },
  {
   "cell_type": "heading",
   "metadata": {},
   "level": 3,
   "source": [
    "Execute LOO on RNN for Normalized Spam dataset with range [0.0, 1.0] and step 0.05"
   ]
  },
  {
   "cell_type": "code",
   "execution_count": 59,
   "metadata": {},
   "outputs": [
    {
     "name": "stdout",
     "output_type": "stream",
     "text": [
      "0.0 : 0.39404477287546186\n0.05 : 0.5646598565529233\n0.1 : 0.6681156270376005\n0.15000000000000002 : 0.7483155835687894\n0.2 : 0.7959139317539665\n0.25 : 0.8059117583134101\n0.30000000000000004 : 0.7950445555314062\n0.35000000000000003 : 0.7811345359704412\n0.4 : 0.7426646381221473\n0.45 : 0.7091936535535753\n0.5 : 0.6828950228211258\n0.55 : 0.6622473375353184\n0.6000000000000001 : 0.63877417952619\n0.65 : 0.6259508802434254\n0.7000000000000001 : 0.6189958704629428\n0.75 : 0.6135622690719409\n0.8 : 0.6118235166268202\n0.8500000000000001 : 0.608346011736579\n0.9 : 0.6070419474027385\n0.9500000000000001 : 0.6072592914583786\nNone\n"
     ]
    }
   ],
   "source": [
    "print(count_loo(norm_spam_points, spam_labels, RNN, np.arange(0.0, 1.0, 0.05)))"
   ]
  },
  {
   "cell_type": "heading",
   "metadata": {},
   "level": 3,
   "source": [
    "Execute LOO on RNN for Normalized Spam dataset with range [0.2, 0.3] and step 0.01"
   ]
  },
  {
   "cell_type": "code",
   "execution_count": 61,
   "metadata": {},
   "outputs": [
    {
     "name": "stdout",
     "output_type": "stream",
     "text": [
      "0.2 : 0.7959139317539665\n0.21000000000000002 : 0.8015648772006085\n0.22000000000000003 : 0.7991740925885678\n0.23000000000000004 : 0.799826124755488\n0.24000000000000005 : 0.8041730058682895\n0.25000000000000006 : 0.8059117583134101\n0.26000000000000006 : 0.8074331667028907\n0.2700000000000001 : 0.8022169093675288\n0.2800000000000001 : 0.8004781569224082\n0.2900000000000001 : 0.7993914366442078\nNone\n"
     ]
    }
   ],
   "source": [
    "print(count_loo(norm_spam_points, spam_labels, RNN, np.arange(0.2, 0.3, 0.01)))"
   ]
  },
  {
   "cell_type": "heading",
   "metadata": {},
   "level": 2,
   "source": [
    "The best radius is 0.26"
   ]
  },
  {
   "cell_type": "code",
   "execution_count": null,
   "metadata": {},
   "outputs": [],
   "source": []
  }
 ],
 "metadata": {},
 "nbformat": 4,
 "nbformat_minor": 0
}
