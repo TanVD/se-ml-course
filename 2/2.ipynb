{
 "cells": [
  {
   "cell_type": "code",
   "execution_count": 70,
   "metadata": {},
   "outputs": [],
   "source": [
    "import pandas as pd\n",
    "import numpy as np\n",
    "import matplotlib.pyplot as plt\n"
   ]
  },
  {
   "cell_type": "code",
   "execution_count": 71,
   "metadata": {},
   "outputs": [],
   "source": [
    "# Utility functions\n"
   ]
  },
  {
   "cell_type": "code",
   "execution_count": 72,
   "metadata": {},
   "outputs": [],
   "source": [
    "def show_2d(data, point):\n",
    "    plt.scatter(data[:, 0], data[:, 1], c=point)\n",
    "    plt.show()\n"
   ]
  },
  {
   "cell_type": "code",
   "execution_count": 73,
   "metadata": {},
   "outputs": [],
   "source": [
    "def dunn_index(data, data_clusters):\n",
    "    out_min = None\n",
    "    in_max = None\n",
    "    for ind_x, point_x in enumerate(data):\n",
    "        for ind_y, point_y in enumerate(data[ind_x + 1:]):\n",
    "            ind_y = ind_y + ind_x + 1\n",
    "            dist = np.linalg.norm(point_x - point_y)\n",
    "            if data_clusters[ind_x] == data_clusters[ind_y] and (in_max is None or dist > in_max):\n",
    "                in_max = dist\n",
    "            if data_clusters[ind_x] != data_clusters[ind_y] and (out_min is None or dist < out_min):\n",
    "                out_min = dist\n",
    "    return out_min / in_max\n"
   ]
  },
  {
   "cell_type": "code",
   "execution_count": 74,
   "metadata": {},
   "outputs": [],
   "source": [
    "cancer_data = pd.read_csv(\"datasets/cancer.csv\")\n",
    "cancer_features = cancer_data.drop(['label'], axis=1).values\n"
   ]
  },
  {
   "cell_type": "code",
   "execution_count": 75,
   "metadata": {},
   "outputs": [],
   "source": [
    "blobs_data = pd.read_csv(\"datasets/blobs.csv\")\n",
    "blobs_features = blobs_data.values\n"
   ]
  },
  {
   "cell_type": "code",
   "execution_count": 76,
   "metadata": {},
   "outputs": [],
   "source": [
    "class Kmeans:\n",
    "    def __init__(self, data, cluster_num, iter_num=50):\n",
    "        self.data = data\n",
    "        self.cluster_num = cluster_num\n",
    "        self.iter_num = iter_num\n",
    "        self.centers = self.data[np.random.choice(np.arange(self.data.shape[0]), self.cluster_num)]\n",
    "        self.precalc()\n",
    "\n",
    "    def precalc(self):\n",
    "        for _ in range(self.iter_num):\n",
    "            clusters_sum = np.zeros_like(self.centers)\n",
    "            clusters_size = np.zeros(self.cluster_num)\n",
    "            for point in self.data:\n",
    "                near_center = np.argmin([np.linalg.norm(center - point) for center in self.centers])\n",
    "                clusters_sum[near_center] += point\n",
    "                clusters_size[near_center] += 1\n",
    "            for ind in range(self.cluster_num):\n",
    "                self.centers[ind] = clusters_sum[ind] / clusters_size[ind]\n",
    "\n",
    "    def clusterize(self, data):\n",
    "        cluster = np.zeros(data.shape[0])\n",
    "        for index, point in enumerate(data):\n",
    "            cluster[index] = np.argmin([np.linalg.norm(center - point) for center in self.centers])\n",
    "        return cluster\n"
   ]
  },
  {
   "cell_type": "code",
   "execution_count": 77,
   "metadata": {},
   "outputs": [
    {
     "name": "stdout",
     "output_type": "stream",
     "text": [
      "Clusters: 2; Dunn index: 0.011020999037160844\n"
     ]
    },
    {
     "name": "stdout",
     "output_type": "stream",
     "text": [
      "Clusters: 3; Dunn index: 0.024417820826925618\n"
     ]
    },
    {
     "name": "stdout",
     "output_type": "stream",
     "text": [
      "Clusters: 4; Dunn index: 0.03756164709963606\n"
     ]
    },
    {
     "name": "stdout",
     "output_type": "stream",
     "text": [
      "Clusters: 5; Dunn index: 0.01463555414684757\n"
     ]
    }
   ],
   "source": [
    "for cluster_num in range(2, 6):\n",
    "    result = Kmeans(blobs_features, cluster_num).clusterize(blobs_features)\n",
    "    dunn_ind = dunn_index(blobs_features, result)\n",
    "    print(f\"Clusters: {cluster_num}; Dunn index: {dunn_ind}\")\n",
    "    show_2d(blobs_features, result)\n"
   ]
  },
  {
   "cell_type": "code",
   "execution_count": 78,
   "metadata": {},
   "outputs": [],
   "source": [
    "class Dbscan:\n",
    "    def __init__(self, data, min_points, epsilon):\n",
    "        self.data = data\n",
    "        self.data_labeled = {}\n",
    "\n",
    "        self.min_points = min_points\n",
    "        self.epsilon = epsilon\n",
    "\n",
    "        self.neighbours_eps = {}\n",
    "\n",
    "        self.precalc()\n",
    "\n",
    "    def precalc(self):\n",
    "        point_dists = np.zeros((len(self.data), len(self.data)))\n",
    "        for ind_x, point_x in enumerate(self.data):\n",
    "            for ind_y, point_y in enumerate(self.data):\n",
    "                point_dists[ind_x, ind_y] = np.linalg.norm(point_x - point_y)\n",
    "\n",
    "        for point_ind, _ in enumerate(self.data):\n",
    "            self.neighbours_eps[point_ind] = [cur_ind for cur_ind in range(len(self.data))\n",
    "                                              if point_dists[cur_ind, point_ind] < self.epsilon]\n",
    "\n",
    "    def clusterize(self):\n",
    "        total_clusters = 0\n",
    "        for point_ind, _ in enumerate(self.data):\n",
    "            near_points = self.neighbours_eps[point_ind]\n",
    "            if len(near_points) < self.min_points:\n",
    "                self.data_labeled[point_ind] = None\n",
    "\n",
    "            if point_ind in self.data_labeled:\n",
    "                continue\n",
    "\n",
    "            self.data_labeled[point_ind] = total_clusters\n",
    "            cluster = set((point for point in near_points if point != point_ind))\n",
    "            while cluster:\n",
    "                point = cluster.pop()\n",
    "                if point not in self.data_labeled:\n",
    "                    self.data_labeled[point] = None\n",
    "                    point_nearest = self.neighbours_eps[point]\n",
    "                    if len(point_nearest) >= self.min_points:\n",
    "                        cluster.update(point_nearest)\n",
    "                if self.data_labeled[point] is None:\n",
    "                    self.data_labeled[point] = total_clusters\n",
    "            total_clusters += 1\n",
    "\n",
    "        np_data_labeled = np.ones(self.data.shape[0])\n",
    "        for ind, _ in enumerate(self.data):\n",
    "            np_data_labeled[ind] = self.data_labeled[ind]\n",
    "        return total_clusters, np_data_labeled\n"
   ]
  },
  {
   "cell_type": "code",
   "execution_count": 79,
   "metadata": {},
   "outputs": [
    {
     "name": "stdout",
     "output_type": "stream",
     "text": [
      "Clusters: 4; Dunn index: 0.026677432372590574\n"
     ]
    }
   ],
   "source": [
    "clusters_num, result = Dbscan(blobs_features, 3, 0.29).clusterize()\n",
    "dunn_ind = dunn_index(blobs_features, result)\n",
    "print(f\"Clusters: {clusters_num}; Dunn index: {dunn_ind}\")\n",
    "\n",
    "show_2d(blobs_features, result)"
   ]
  },
  {
   "cell_type": "code",
   "execution_count": null,
   "metadata": {},
   "outputs": [],
   "source": []
  }
 ],
 "metadata": {},
 "nbformat": 4,
 "nbformat_minor": 0
}
