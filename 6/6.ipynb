{
  "cells": [
    {
      "cell_type": "code",
      "execution_count": 124,
      "metadata": {
        "collapsed": true,
        "pycharm": {
          "is_executing": false
        }
      },
      "outputs": [],
      "source": "import pandas as pd\nimport numpy as np\nimport matplotlib.pyplot as plt\nimport sklearn.model_selection as ml\nimport sklearn.preprocessing as pre\n"
    },
    {
      "cell_type": "code",
      "execution_count": 125,
      "outputs": [
        {
          "name": "stderr",
          "text": [
            "/usr/local/lib/python3.7/dist-packages/sklearn/model_selection/_split.py:2179: FutureWarning: From version 0.21, test_size will always complement train_size unless both are specified.\n  FutureWarning)\n"
          ],
          "output_type": "stream"
        }
      ],
      "source": "cancer_dataset \u003d pd.read_csv(\"../datasets/cancer.csv\")\ncancer_labels \u003d [1 if val \u003d\u003d \u0027M\u0027 else -1 for val in cancer_dataset[\u0027label\u0027].values]\ncancer_points \u003d cancer_dataset.drop([\u0027label\u0027], axis\u003d1).values\n\ncancer_points \u003d pre.MinMaxScaler().fit_transform(cancer_points)\n\ncancer_points_training, cancer_points_test, cancer_labels_training, cancer_labels_test \u003d ml.train_test_split(cancer_points, cancer_labels, train_size\u003d0.8)\n\n",
      "metadata": {
        "pycharm": {
          "metadata": false,
          "name": "#%%\n",
          "is_executing": false
        }
      }
    },
    {
      "cell_type": "code",
      "execution_count": 126,
      "outputs": [
        {
          "name": "stderr",
          "text": [
            "/usr/local/lib/python3.7/dist-packages/sklearn/model_selection/_split.py:2179: FutureWarning: From version 0.21, test_size will always complement train_size unless both are specified.\n  FutureWarning)\n"
          ],
          "output_type": "stream"
        }
      ],
      "source": "spam_dataset \u003d pd.read_csv(\"../datasets/spam.csv\")\nspam_labels \u003d [val for val in spam_dataset[\u0027label\u0027].values]\nspam_points \u003d spam_dataset.drop([\u0027label\u0027], axis\u003d1).values\n\nspam_points \u003d pre.MinMaxScaler().fit_transform(spam_points)\nspam_labels \u003d (spam_labels \u003d\u003d spam_labels[0]) * 2 - 1\n\nspam_points_training, spam_points_test, spam_labels_training, spam_labels_test \u003d ml.train_test_split(spam_points, spam_labels, train_size\u003d0.8)\n\n",
      "metadata": {
        "pycharm": {
          "metadata": false,
          "name": "#%%\n",
          "is_executing": false
        }
      }
    },
    {
      "cell_type": "code",
      "execution_count": 205,
      "outputs": [],
      "source": "def to_row(arr, size):\n    return arr.reshape(size, 1)\n\ndef gradient(dim, train_size, weights, x_train, y_train): \n    return to_row( y_train / (1 + np.exp(y_train * (x_train @ weights).flatten())) @ x_train, dim) / train_size\n\ndef logistic_regression(x_train, x_test, y_train, y_test, eta, mini_batch\u003d500, max_iter\u003d500):\n    dim \u003d x_train.shape[1]\n    train_size \u003d x_train.shape[0]\n    \n    weights \u003d np.random.rand(dim, 1)\n    # weights \u003d np.zeros((dim, 1))\n    result_errors \u003d list()\n    prev_err \u003d None\n    for _ in range(max_iter):\n        # Go per mini batch\n        for start_ind in range(0, train_size, mini_batch):\n            x_train_batch, y_train_batch \u003d x_train[start_ind:start_ind + mini_batch], y_train[start_ind:start_ind + mini_batch]\n            weights +\u003d eta * gradient(dim, train_size, weights, x_train_batch, y_train_batch)\n                \n        cur_err \u003d np.sum(np.abs(np.sign(x_test @ weights).flatten() - y_test)) / 2\n        if prev_err and prev_err \u003c cur_err:\n            break\n        result_errors.append(cur_err)\n        prev_err \u003d cur_err\n    return result_errors\n    \ndef graph(err):\n    plt.plot(err)\n    plt.show()\n",
      "metadata": {
        "pycharm": {
          "metadata": false,
          "name": "#%%\n",
          "is_executing": false
        }
      }
    },
    {
      "cell_type": "code",
      "execution_count": 206,
      "outputs": [
        {
          "data": {
            "text/plain": "\u003cFigure size 432x288 with 1 Axes\u003e",
            "image/png": "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\u003d\n"
          },
          "metadata": {
            "needs_background": "light"
          },
          "output_type": "display_data"
        }
      ],
      "source": "graph(logistic_regression(cancer_points_training, cancer_points_test, cancer_labels_training, cancer_labels_test, 0.01))\n",
      "metadata": {
        "pycharm": {
          "metadata": false,
          "name": "#%%\n",
          "is_executing": false
        }
      }
    },
    {
      "cell_type": "code",
      "execution_count": 207,
      "outputs": [
        {
          "data": {
            "text/plain": "\u003cFigure size 432x288 with 1 Axes\u003e",
            "image/png": "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\u003d\n"
          },
          "metadata": {
            "needs_background": "light"
          },
          "output_type": "display_data"
        }
      ],
      "source": "graph(logistic_regression(spam_points_training, spam_points_test, spam_labels_training, spam_labels_test, 0.01, 200, 5000))\n",
      "metadata": {
        "pycharm": {
          "metadata": false,
          "name": "#%%\n",
          "is_executing": false
        }
      }
    }
  ],
  "metadata": {
    "language_info": {
      "codemirror_mode": {
        "name": "ipython",
        "version": 2
      },
      "file_extension": ".py",
      "mimetype": "text/x-python",
      "name": "python",
      "nbconvert_exporter": "python",
      "pygments_lexer": "ipython2",
      "version": "2.7.6"
    },
    "kernelspec": {
      "name": "pycharm-c591b7e2",
      "language": "python",
      "display_name": "PyCharm (ML_ITMO_1)"
    }
  },
  "nbformat": 4,
  "nbformat_minor": 0
}