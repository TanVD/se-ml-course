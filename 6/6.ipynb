{
  "cells": [
    {
      "cell_type": "code",
      "execution_count": 124,
      "metadata": {
        "collapsed": true,
        "pycharm": {
          "is_executing": false
        }
      },
      "outputs": [],
      "source": "import pandas as pd\nimport numpy as np\nimport matplotlib.pyplot as plt\nimport sklearn.model_selection as ml\nimport sklearn.preprocessing as pre\n"
    },
    {
      "cell_type": "code",
      "execution_count": 125,
      "outputs": [
        {
          "name": "stderr",
          "text": [
            "/usr/local/lib/python3.7/dist-packages/sklearn/model_selection/_split.py:2179: FutureWarning: From version 0.21, test_size will always complement train_size unless both are specified.\n  FutureWarning)\n"
          ],
          "output_type": "stream"
        }
      ],
      "source": "cancer_dataset \u003d pd.read_csv(\"../datasets/cancer.csv\")\ncancer_labels \u003d [1 if val \u003d\u003d \u0027M\u0027 else -1 for val in cancer_dataset[\u0027label\u0027].values]\ncancer_points \u003d cancer_dataset.drop([\u0027label\u0027], axis\u003d1).values\n\ncancer_points \u003d pre.MinMaxScaler().fit_transform(cancer_points)\n\ncancer_points_training, cancer_points_test, cancer_labels_training, cancer_labels_test \u003d ml.train_test_split(cancer_points, cancer_labels, train_size\u003d0.8)\n\n",
      "metadata": {
        "pycharm": {
          "metadata": false,
          "name": "#%%\n",
          "is_executing": false
        }
      }
    },
    {
      "cell_type": "code",
      "execution_count": 126,
      "outputs": [
        {
          "name": "stderr",
          "text": [
            "/usr/local/lib/python3.7/dist-packages/sklearn/model_selection/_split.py:2179: FutureWarning: From version 0.21, test_size will always complement train_size unless both are specified.\n  FutureWarning)\n"
          ],
          "output_type": "stream"
        }
      ],
      "source": "spam_dataset \u003d pd.read_csv(\"../datasets/spam.csv\")\nspam_labels \u003d [val for val in spam_dataset[\u0027label\u0027].values]\nspam_points \u003d spam_dataset.drop([\u0027label\u0027], axis\u003d1).values\n\nspam_points \u003d pre.MinMaxScaler().fit_transform(spam_points)\nspam_labels \u003d (spam_labels \u003d\u003d spam_labels[0]) * 2 - 1\n\nspam_points_training, spam_points_test, spam_labels_training, spam_labels_test \u003d ml.train_test_split(spam_points, spam_labels, train_size\u003d0.8)\n\n",
      "metadata": {
        "pycharm": {
          "metadata": false,
          "name": "#%%\n",
          "is_executing": false
        }
      }
    },
    {
      "cell_type": "code",
      "execution_count": 127,
      "outputs": [],
      "source": "def to_row(arr, size):\n    return arr.reshape(size, 1)\n\ndef gradient(dim, train_size, weights, x_train, y_train): \n    return to_row( y_train / (1 + np.exp(y_train * (x_train @ weights).flatten())) @ x_train, dim) / train_size\n\ndef logistic_regression(x_train, x_test, y_train, y_test, eta, mini_batch\u003d500, max_iter\u003d500):\n    dim \u003d x_train.shape[1]\n    train_size \u003d x_train.shape[0]\n    \n    weights \u003d np.random.rand(dim, 1)\n    result_errors \u003d list()\n    prev_err \u003d None\n    for _ in range(max_iter):\n        # Go per mini batch\n        for start_ind in range(0, train_size, mini_batch):\n            x_train_batch, y_train_batch \u003d x_train[start_ind:start_ind + mini_batch], y_train[start_ind:start_ind + mini_batch]\n            weights +\u003d eta * gradient(dim, train_size, weights, x_train_batch, y_train_batch)\n                \n        cur_err \u003d np.sum(np.abs(np.sign(x_test @ weights).flatten() - y_test))\n        if prev_err and prev_err \u003c cur_err:\n            break\n        result_errors.append(cur_err)\n        prev_err \u003d cur_err\n    return result_errors\n    \ndef graph(err):\n    plt.plot(err)\n    plt.show()\n",
      "metadata": {
        "pycharm": {
          "metadata": false,
          "name": "#%%\n",
          "is_executing": false
        }
      }
    },
    {
      "cell_type": "code",
      "execution_count": 130,
      "outputs": [
        {
          "data": {
            "text/plain": "\u003cFigure size 432x288 with 1 Axes\u003e",
            "image/png": "[encoded data removed]"
          },
          "metadata": {
            "needs_background": "light"
          },
          "output_type": "display_data"
        }
      ],
      "source": "graph(logistic_regression(cancer_points_training, cancer_points_test, cancer_labels_training, cancer_labels_test, 0.01))\n",
      "metadata": {
        "pycharm": {
          "metadata": false,
          "name": "#%%\n",
          "is_executing": false
        }
      }
    },
    {
      "cell_type": "code",
      "execution_count": 140,
      "outputs": [
        {
          "data": {
            "text/plain": "\u003cFigure size 432x288 with 1 Axes\u003e",
            "image/png": "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\u003d\u003d\n"
          },
          "metadata": {
            "needs_background": "light"
          },
          "output_type": "display_data"
        }
      ],
      "source": "graph(logistic_regression(spam_points_training, spam_points_test, spam_labels_training, spam_labels_test, 0.01, 5000, 5000))\n",
      "metadata": {
        "pycharm": {
          "metadata": false,
          "name": "#%%\n",
          "is_executing": false
        }
      }
    }
  ],
  "metadata": {
    "language_info": {
      "codemirror_mode": {
        "name": "ipython",
        "version": 2
      },
      "file_extension": ".py",
      "mimetype": "text/x-python",
      "name": "python",
      "nbconvert_exporter": "python",
      "pygments_lexer": "ipython2",
      "version": "2.7.6"
    },
    "kernelspec": {
      "name": "pycharm-c591b7e2",
      "language": "python",
      "display_name": "PyCharm (ML_ITMO_1)"
    }
  },
  "nbformat": 4,
  "nbformat_minor": 0
}