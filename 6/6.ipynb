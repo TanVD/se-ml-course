{
  "cells": [
    {
      "cell_type": "code",
      "execution_count": null,
      "metadata": {
        "collapsed": true,
        "pycharm": {}
      },
      "outputs": [],
      "source": "import pandas as pd\nimport numpy as np\nimport heapq\nimport matplotlib.pyplot as plt\nimport sklearn.model_selection as ml\n"
    },
    {
      "cell_type": "code",
      "execution_count": null,
      "outputs": [],
      "source": "cancer_dataset \u003d pd.read_csv(\"datasets/cancer.csv\")\ncancer_labels \u003d [1 if val \u003d\u003d \u0027M\u0027 else 0 for val in cancer_dataset[\u0027label\u0027].values]\ncancer_points \u003d cancer_dataset.drop([\u0027label\u0027], axis\u003d1).values\n",
      "metadata": {
        "pycharm": {
          "metadata": false,
          "name": "#%%\n"
        }
      }
    },
    {
      "cell_type": "code",
      "execution_count": null,
      "outputs": [],
      "source": "spam_dataset \u003d pd.read_csv(\"datasets/spam.csv\")\nspam_labels \u003d [val for val in spam_dataset[\u0027label\u0027].values]\nspam_points \u003d spam_dataset.drop([\u0027label\u0027], axis\u003d1).values\n",
      "metadata": {
        "pycharm": {
          "metadata": false,
          "name": "#%%\n"
        }
      }
    }
  ],
  "metadata": {
    "language_info": {
      "codemirror_mode": {
        "name": "ipython",
        "version": 2
      },
      "file_extension": ".py",
      "mimetype": "text/x-python",
      "name": "python",
      "nbconvert_exporter": "python",
      "pygments_lexer": "ipython2",
      "version": "2.7.6"
    },
    "kernelspec": {
      "name": "python3",
      "language": "python",
      "display_name": "Python 3"
    }
  },
  "nbformat": 4,
  "nbformat_minor": 0
}